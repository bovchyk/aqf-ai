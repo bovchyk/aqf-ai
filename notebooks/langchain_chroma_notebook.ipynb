{
 "cells": [
  {
   "cell_type": "markdown",
   "metadata": {},
   "source": [
    "based on [link1](https://python.langchain.com/v0.2/docs/tutorials/rag/) and \n",
    "[link2](https://python.langchain.com/v0.2/docs/integrations/vectorstores/chroma/)"
   ]
  },
  {
   "cell_type": "code",
   "execution_count": null,
   "metadata": {},
   "outputs": [],
   "source": [
    "%pip install -q langchain langchain_community langchain_chroma langchain-openai "
   ]
  },
  {
   "cell_type": "code",
   "execution_count": 1,
   "metadata": {},
   "outputs": [],
   "source": [
    "import os\n",
    "\n",
    "from langchain_openai import ChatOpenAI\n",
    "\n",
    "LANGCHAIN_TRACING_V2=os.getenv(\"LANGCHAIN_TRACING_V2\")\n",
    "LANGCHAIN_ENDPOINT=os.getenv(\"LANGCHAIN_ENDPOINT\")\n",
    "LANGCHAIN_API_KEY=os.getenv(\"LANGCHAIN_API_KEY\")\n",
    "LANGCHAIN_PROJECT=os.getenv(\"LANGCHAIN_PROJECT\")\n",
    "OPENAI_API_KEY=os.getenv(\"OPENAI_API_KEY\")\n"
   ]
  },
  {
   "cell_type": "code",
   "execution_count": 2,
   "metadata": {},
   "outputs": [],
   "source": [
    "llm = ChatOpenAI(model=\"gpt-3.5-turbo\")"
   ]
  },
  {
   "cell_type": "code",
   "execution_count": 7,
   "metadata": {},
   "outputs": [],
   "source": [
    "from langchain import hub\n",
    "from langchain_chroma import Chroma\n",
    "from langchain_core.output_parsers import StrOutputParser\n",
    "from langchain_core.runnables import RunnablePassthrough\n",
    "from langchain_openai import OpenAIEmbeddings\n",
    "from langchain_core.documents import Document\n",
    "from uuid import uuid4\n",
    "\n",
    "import sys\n",
    "sys.path.append(os.path.dirname(os.path.dirname(os.getcwd())))\n",
    "\n",
    "import argparse\n",
    "from src.preprocess.main_preprocess import preprocess_raw_files\n",
    "\n",
    "parser = argparse.ArgumentParser()\n",
    "parser.add_argument('--input_files_path', type=str, help='An integer parameter')\n",
    "parser.add_argument('--action', type=str, help='A string parameter')\n",
    "args = parser.parse_args(['--input_files_path', 'data/raw_filled_security_questionnaire', \"--action\", \"indexdb\"])\n"
   ]
  },
  {
   "cell_type": "code",
   "execution_count": 4,
   "metadata": {},
   "outputs": [
    {
     "name": "stdout",
     "output_type": "stream",
     "text": [
      "Model 'en_core_web_md' is already installed, loading...\n"
     ]
    }
   ],
   "source": [
    "PROJECT_PATH=os.getenv(\"PROJECT_PATH\")\n",
    "os.path.join(PROJECT_PATH, args.input_files_path)\n",
    "\n",
    "# Load, chunk and index the contents of the blog.\n",
    "structured_qa_pairs = preprocess_raw_files(args)\n"
   ]
  },
  {
   "cell_type": "code",
   "execution_count": 9,
   "metadata": {},
   "outputs": [
    {
     "data": {
      "text/plain": [
       "['0094529b-7527-4769-a959-2853d925adf2',\n",
       " 'b6649652-c6e1-4491-b04a-27ec77fa7f69',\n",
       " '2f804f62-de99-416b-ae84-433e6c9c422f',\n",
       " 'cdfaaafd-ffe0-45bb-ae90-5e4528657fce',\n",
       " '4462f468-0011-4936-aa2e-a371a2f98807',\n",
       " '599d8866-7bde-489d-bd97-a47bf6d09aad',\n",
       " 'bf3b7373-59bd-418c-83eb-8d9275079b18',\n",
       " '745b7191-051f-4af0-9feb-a7eb452fe586',\n",
       " '3b8cb0ce-eb4f-416c-a5f5-70c2cfd4176e',\n",
       " '35d66ce6-448c-403b-b317-171756592fc0',\n",
       " '12d94805-99e1-458f-b89c-f551bab33cd2',\n",
       " '4611573e-473f-4d49-b315-664e3ce59ea1',\n",
       " '523b5019-ad1a-4d47-bc40-777154a535a7',\n",
       " 'fc088ce3-b987-4437-b7a9-a889199f521d',\n",
       " 'f7e1d7a1-128f-4344-bdee-89c6c32c1c20',\n",
       " '7237923c-6a14-4a0a-89a2-87af25da0b6f',\n",
       " '9573dcfd-affb-4d7f-a940-e84bfdc92ed9',\n",
       " '3bec60ad-c14d-4d97-b7af-c2661c75ccd6',\n",
       " '558923c3-54f9-4344-bf3d-60ea876c0939',\n",
       " 'b0683772-4f90-4709-82e6-f422c453d2e3',\n",
       " '36c20088-a5b6-4461-8d7d-b5b0981f3ca5',\n",
       " '75def41c-5cb1-4196-83d8-96ab4c3e098b',\n",
       " 'a1d6c1bb-23a1-489a-9603-7d256d563050',\n",
       " '2c29f31a-97be-4372-b2ea-afbb96ff5113',\n",
       " 'e13e072d-1937-469d-b784-03f2345756b2',\n",
       " '7c4333b2-8081-44a2-b3b0-8443402b1751',\n",
       " '0c86328d-601e-4388-9d46-87802aae4fca',\n",
       " '0fd33523-6337-4479-9327-2155c834832c',\n",
       " '24297a2b-4a44-4cc1-ad45-aa8c20ecefa2',\n",
       " '3030279b-89fa-4695-b612-02da7afda7c6',\n",
       " 'f80ff8aa-e5f2-4aa4-8edf-ff03c2e7e0a0',\n",
       " '82b06794-e9f6-4345-9712-51df0dccaa24',\n",
       " '6105c19d-31b5-43b0-8a67-a893d322b7f0',\n",
       " '9c58b496-3253-4cf6-b417-cc916db39c9a',\n",
       " '82669e01-c3bc-44fe-825b-8281fee84d74',\n",
       " 'c33dd5ad-dec9-4984-920a-5a4c820ce359',\n",
       " '76264577-f305-439f-add5-148aea6072cb',\n",
       " 'b7bcd663-3670-4d62-84d1-a6887208b11f',\n",
       " '2db199ea-8513-479d-97ca-d3ddcb32bf9a',\n",
       " 'd4e6ed53-add6-4013-9e60-ca0d9640578b',\n",
       " '4c845de8-2f76-4263-a564-bd0a5e3810f0',\n",
       " '609b374f-1185-4489-8fee-689137286346',\n",
       " '31d362ea-bba0-4363-8694-43e8b25a8e4e',\n",
       " '5e2063a7-c124-485f-857e-e0a3f5f47fa7',\n",
       " 'f1a994b1-a4b0-4589-a8de-4913c7c8a612',\n",
       " 'de69c246-3359-4982-a53e-a6dab8167e0f',\n",
       " '9be9f072-41a2-4a21-92fa-b39492aa077b',\n",
       " '420b7e23-257c-4a5d-9fd7-1ad3e7185cc2',\n",
       " 'f5772d17-4bd0-4125-b9bd-257186b800aa',\n",
       " 'ae84aa96-028b-4a33-befa-f66519c63bac',\n",
       " '13198dae-ed5c-4bb3-a1d3-22b28913f7b7',\n",
       " '4aee1a63-350d-49ab-8013-20053fabfbfb',\n",
       " '5df9a6e1-2df0-486c-9193-6b14f47a2b91',\n",
       " '6ff3dc25-b51a-4b62-a0a0-436951273878',\n",
       " '76874807-c7aa-445c-aeb5-b2fe33badf17',\n",
       " 'aecfa119-a995-49b8-9904-54e2f0409000',\n",
       " '5a8a4b03-d205-4f4c-8cc7-b1d62e136065',\n",
       " '9a31f79f-4498-444a-b910-0335c683505a',\n",
       " 'a359a0ae-6bba-4245-b82c-29911e07cb21',\n",
       " 'c634014c-1687-4ca3-8b06-723d9567ef42',\n",
       " '360039cb-cab4-4f44-b350-c6908bdc2fda',\n",
       " '60ed22ff-409f-4368-b1d8-3b4e4a1cd2da',\n",
       " '50fad23e-9516-4e78-9e46-d8908a4bfde9',\n",
       " '1c2cedf9-3d3c-47fd-87d6-4b576cae6c9f',\n",
       " '020a86ae-aab7-4c3a-b6ef-428830bcb86d',\n",
       " 'ccc589e3-6a0c-40ec-a838-c18a1594ca80',\n",
       " '7f845813-7f0d-4837-bec5-155f3ebd3538',\n",
       " 'd3ea720f-26fa-41b9-a426-bd7150066692',\n",
       " 'fed7610c-1546-4ad1-be08-2b6417a571b7']"
      ]
     },
     "execution_count": 9,
     "metadata": {},
     "output_type": "execute_result"
    }
   ],
   "source": [
    "# create documents\n",
    "documents = []\n",
    "for file in structured_qa_pairs:\n",
    "    quest, answ = tuple(structured_qa_pairs[file].keys())\n",
    "    # print(structured_qa_pairs[file][quest], structured_qa_pairs[file][answ])\n",
    "    \n",
    "    ids=0\n",
    "    for quest_, answ_ in zip(structured_qa_pairs[file][quest], structured_qa_pairs[file][answ]):\n",
    "        # print(quest_, answ_)\n",
    "        documents += [Document(\n",
    "            page_content = quest_,\n",
    "            metadata = {\n",
    "                \"source\": file,\n",
    "                \"answer\": answ_\n",
    "            },\n",
    "            id = ids\n",
    "        )]\n",
    "        ids += 1\n",
    "\n",
    "\n",
    "# Create vector store\n",
    "embeddings = OpenAIEmbeddings(model=\"text-embedding-ada-002\")\n",
    "vector_store = Chroma(\n",
    "    collection_name=\"example_collection\",\n",
    "    embedding_function=embeddings,\n",
    "    persist_directory=\"./chroma_langchain_db\",  # Where to save data locally, remove if not neccesary\n",
    ")\n",
    "uuids = [str(uuid4()) for _ in range(len(documents))]\n",
    "vector_store.add_documents(documents=documents, ids=uuids)\n",
    "# vectorstore = Chroma.from_documents(documents=documents, embedding=OpenAIEmbeddings())\n"
   ]
  },
  {
   "cell_type": "code",
   "execution_count": 11,
   "metadata": {},
   "outputs": [
    {
     "data": {
      "text/plain": [
       "'Yes, we have the capability to patch vulnerabilities across all of our computing devices, applications, and systems. We conduct application penetration tests regularly and have anti-malware programs installed on all IT infrastructure components. We review applications for security vulnerabilities before deployment to production.'"
      ]
     },
     "execution_count": 11,
     "metadata": {},
     "output_type": "execute_result"
    }
   ],
   "source": [
    "\n",
    "# Retrieve and generate using the relevant snippets of the blog.\n",
    "retriever = vector_store.as_retriever()\n",
    "prompt = hub.pull(\"rlm/rag-prompt\")\n",
    "\n",
    "\n",
    "def format_docs(docs):\n",
    "    return \"\\n\\n\".join(doc.page_content for doc in docs)\n",
    "\n",
    "\n",
    "rag_chain = (\n",
    "    {\"context\": retriever | format_docs, \"question\": RunnablePassthrough()}\n",
    "    | prompt\n",
    "    | llm\n",
    "    | StrOutputParser()\n",
    ")\n",
    "\n",
    "rag_chain.invoke(\"Do you have a capability to patch vulnerabilities across all of your computing devices, applications, and systems?\")\n",
    "\n",
    "# не то пальто"
   ]
  },
  {
   "cell_type": "code",
   "execution_count": 12,
   "metadata": {},
   "outputs": [
    {
     "data": {
      "text/plain": [
       "[Document(id='0', metadata={'source': 'Adyen_SQ.xls', 'answer': 'Comment'}, page_content='Question'),\n",
       " Document(id='1', metadata={'source': 'Adyen_SQ.xls', 'answer': 'Adyen automates this in accordance with PCI DSS requirement 6.6.'}, page_content='Do you use an automated source code analysis tool to detect security defects in code prior to production?'),\n",
       " Document(id='2', metadata={'source': 'Adyen_SQ.xls', 'answer': 'Adyen reviews our applications and address issues in accordance with PCI DSS requirement 6.3.2.'}, page_content='(SaaS only) Do you review your applications for security vulnerabilities and address any issues prior to deployment to production?'),\n",
       " Document(id='3', metadata={'source': 'Adyen_SQ.xls', 'answer': 'Adyen addresses and remediates requirements for access accordance with PCI DSS requirement 10.8.1, 11.3, 11.3.3.'}, page_content='Are all identified security, contractual, and regulatory requirements for customer access contractually addressed and remediated prior to granting customers access to data, assets, and information systems?'),\n",
       " Document(id='4', metadata={'source': 'Adyen_SQ.xls', 'answer': \"Data quality - including input and output integrity - is in scope of Adyen's multi-year Audit Plan, in accordance with our obligations to the ECB as part of our continuous banking license obligations.\"}, page_content='Does your data management policies and procedures require audits to verify data input and output integrity routines?'),\n",
       " Document(id='5', metadata={'source': 'Adyen_SQ.xls', 'answer': 'Adyen allows our customers to view our ISAE 3402 Type 2 report and PCI DSS Attestation of Compliance (AoC), both of which are external audits/assessments with a focus on data security concerns. Other reports are not available to customers.'}, page_content='Do you allow tenants to view your SOC2/ISO 27001 or similar third-party audit or certification reports?'),\n",
       " Document(id='6', metadata={'source': 'Adyen_SQ.xls', 'answer': 'Adyen conducts network penetration tests in accordance with PCI DSS requirement 11.3.4, 11.3.4.1.'}, page_content='Do you conduct network penetration tests of your cloud service infrastructure at least annually?'),\n",
       " Document(id='7', metadata={'source': 'Adyen_SQ.xls', 'answer': 'Adyen conducts application penetration tests in accordance with PCI DSS requirement 11.3.1, 11.3.2.'}, page_content='Do you conduct application penetration tests of your cloud infrastructure regularly as prescribed by industry best practices and guidance?'),\n",
       " Document(id='8', metadata={'source': 'Adyen_SQ.xls', 'answer': 'Adyen maintains an information system regulatory mapping in accordance with our obligations to the ECB as part of our continuous banking license obligations.'}, page_content='Do you have a program in place that includes the ability to monitor changes to the regulatory requirements in relevant jurisdictions, adjust your security program for changes to legal requirements, and ensure compliance with relevant regulatory requirements?'),\n",
       " Document(id='9', metadata={'source': 'Adyen_SQ.xls', 'answer': 'Adyen tests our business continuity plans in accordance with our obligations to the ECB as part of our continuous banking license obligations.'}, page_content='Are business continuity plans subject to testing at planned intervals or upon significant organizational or environmental changes to ensure continuing effectiveness?'),\n",
       " Document(id='10', metadata={'source': 'Adyen_SQ.xls', 'answer': 'Adyen has appropriate policies and procedures and makes them available to all personnel in accordance with our obligations to the ECB as part of our continuous banking license obligations.'}, page_content=\"Are policies and procedures established and made available for all personnel to adequately support services operations' roles?\"),\n",
       " Document(id='11', metadata={'source': 'Adyen_SQ.xls', 'answer': 'Please note that since Adyen is a massively-multitenant service provider, options for customization of data retention periods are restricted.'}, page_content='Do you have technical capabilities to enforce tenant data retention policies?'),\n",
       " Document(id='12', metadata={'source': 'Adyen_SQ.xls', 'answer': 'Adyen has implemented backup and recovery mechanisms in accordance with our obligations to the ECB as part of our continuous banking license obligations.'}, page_content='Have you implemented backup or recovery mechanisms to ensure compliance with regulatory, statutory, contractual or business requirements?'),\n",
       " Document(id='13', metadata={'source': 'Adyen_SQ.xls', 'answer': 'Adyen tests our backup and redundancy mechanisms at least annually and in accordance with our obligations to the ECB as part of our continuous banking license obligations.'}, page_content='Do you test your backup or redundancy mechanisms at least annually?'),\n",
       " Document(id='14', metadata={'source': 'Adyen_SQ.xls', 'answer': 'Adyen restricts and monitors the installation of software in accordance with PCI DSS requirement 11.5.'}, page_content='Do you have controls in place to restrict and monitor the installation of unauthorized software onto your systems?'),\n",
       " Document(id='15', metadata={'source': 'Adyen_SQ.xls', 'answer': 'Adyen provides standardized non-proprietary encryption algorithms to merchants for transport of data through public networks in accordance with PCI DSS requirement 4.1.'}, page_content='Do you provide standardized (e.g. ISO/IEC) non-proprietary encryption algorithms (3DES, AES, etc.) to tenants in order for them to protect their data if it is required to move through public networks (e.g., the Internet)?'),\n",
       " Document(id='16', metadata={'source': 'Adyen_SQ.xls', 'answer': 'Adyen uses open encryption methodologies in accordance with PCI DSS requirement 4.1.'}, page_content='Do you utilize open encryption methodologies any time your infrastructure components need to communicate with each other via public networks (e.g., Internet-based replication of data from one environment to another)?'),\n",
       " Document(id='17', metadata={'source': 'Adyen_SQ.xls', 'answer': 'Adyen has policies and procedures in place to ensure production data is not available or used in non-production environments in accordance with PCI DSS requirement 6.4, 6.4.3.'}, page_content='Do you have procedures in place to ensure production data shall not be replicated or used in non-production environments?'),\n",
       " Document(id='18', metadata={'source': 'Adyen_SQ.xls', 'answer': 'Adyen uses secure deletion and destruction processes in accordance with PCI DSS requirement 9.8, 9.8.1, 9.8.2.'}, page_content='Do you support the secure deletion (e.g., degaussing/cryptographic wiping) of archived and backed-up data?'),\n",
       " Document(id='19', metadata={'source': 'Adyen_SQ.xls', 'answer': 'Please consult the Adyen Merchant Agreement for more information about termination of the agreement.'}, page_content='Can you provide a published procedure for exiting the service arrangement, including assurance to sanitize all computing resources of tenant data once a customer has exited your environment or has vacated a resource?'),\n",
       " Document(id='20', metadata={'source': 'Adyen_SQ.xls', 'answer': 'Adyen maintains a complete inventory of all critical assets in accordance with PCI DSS requirement 2.4, 3.5.1, 9.6.2, 12.3.3, 12.3.4.'}, page_content='Do you maintain a complete inventory of all of your critical assets located at all sites/ or geographical locations and their assigned ownership?'),\n",
       " Document(id='21', metadata={'source': 'Adyen_SQ.xls', 'answer': 'Adyen implements physical security perimeters in accordance with PCI DSS requirement 9.1, 9.1.1, 9.1.2, 9.1.3. Additional requirements established by PCI PIN Security and PCI P2PE are also implemented.'}, page_content='Are physical security perimeters (e.g., fences, walls, barriers, guards, gates, electronic surveillance, physical authentication mechanisms, reception desks, and security patrols) implemented for all areas housing sensitive data and information systems?'),\n",
       " Document(id='22', metadata={'source': 'Adyen_SQ.xls', 'answer': 'In accordance with PCI DSS requirement 9.1, 9.1.1, 9.1.2, 9.1.3, 9.3, 9.4, 9.4.1, 9.4.2, 9.4.3, 9.4.4.'}, page_content='Do you restrict physical access to information assets and functions by users and support personnel?'),\n",
       " Document(id='23', metadata={'source': 'Adyen_SQ.xls', 'answer': 'Please note that these keys address specific customer integration use-cases which do not include data archival purposes.'}, page_content='Do you have a capability to allow creation of unique encryption keys per tenant?'),\n",
       " Document(id='24', metadata={'source': 'Adyen_SQ.xls', 'answer': 'Adyen encrypts customer data at rest in accordance with PCI DSS requirement 3.4.1.'}, page_content='Do you encrypt tenant data at rest (on disk/storage) within your environment?'),\n",
       " Document(id='25', metadata={'source': 'Adyen_SQ.xls', 'answer': 'Adyen maintains system baselines including security in accordance with PCI DSS requirement 12.11.'}, page_content='Do you have documented information security baselines for every component of your infrastructure (e.g., hypervisors, operating systems, routers, DNS servers, etc.)?'),\n",
       " Document(id='26', metadata={'source': 'Adyen_SQ.xls', 'answer': 'Adyen provides access to information security policies and procedures to all relevant personnel in accordance with PCI DSS requirement 12.1, 12.3, 12.4, 12.4.1, 12.5.'}, page_content='Are your information security policies and procedures made available to all impacted personnel and business partners, authorized by accountable business role/function and supported by the information security management program as per industry best practices (e.g. ISO 27001, SOC 2)?'),\n",
       " Document(id='27', metadata={'source': 'Adyen_SQ.xls', 'answer': 'Adyen has a formal disciplinary and sanctions policy set in accordance with our obligations to the ECB as part of our continuous banking license obligations.'}, page_content='Is a formal disciplinary or sanction policy established for employees who have violated security policies and procedures?'),\n",
       " Document(id='28', metadata={'source': 'Adyen_SQ.xls', 'answer': 'Adyen always informs customers when material changes to our service offering to customers is due to occur.'}, page_content='Do you notify your tenants when you make material changes to your information security and/or privacy policies?'),\n",
       " Document(id='29', metadata={'source': 'Adyen_SQ.xls', 'answer': 'Adyen reviews security policies in accordance with PCI DSS requirement 12.1.1, and more broadly all appropriate policies in accordance with our obligations to the ECB as part of our continuous banking license obligations.'}, page_content='Do you perform, at minimum, annual reviews to your privacy and security policies?'),\n",
       " Document(id='30', metadata={'source': 'Adyen_SQ.xls', 'answer': 'Adyen informs personnel and business partners of their obligations at time of termination of our relationship in accordance with PCI DSS requirement 9.3.'}, page_content='Upon termination of contract or business relationship, are employees and business partners adequately informed of their obligations for returning organizationally-owned assets?'),\n",
       " Document(id='31', metadata={'source': 'Adyen_SQ.xls', 'answer': 'Adyen conducts background verification in accordance with PCI DSS requirement 12.7 and in accordance with our obligations to the ECB as part of our continuous banking license obligations and applicable law.'}, page_content='Pursuant to local laws, regulations, ethics, and contractual constraints, are all employment candidates, contractors, and involved third parties subject to background verification?'),\n",
       " Document(id='32', metadata={'source': 'Adyen_SQ.xls', 'answer': 'Adyen contracts with personnel in accordance with PCI DSS requirement 12.6.2.'}, page_content='Do your employment agreements incorporate provisions and/or terms in adherence to established information governance and security policies?'),\n",
       " Document(id='33', metadata={'source': 'Adyen_SQ.xls', 'answer': 'Adyen implements policies, procedures and guidelines in accordance with ISAE3402 COSO IT General Controls for Joiners/Movers/Leavers.'}, page_content='Are documented policies, procedures, and guidelines in place to govern change in employment and/or termination?'),\n",
       " Document(id='34', metadata={'source': 'Adyen_SQ.xls', 'answer': 'Adyen trains all personnel in appropriate security topics in accordance with PCI DSS requirement 12.6.1.'}, page_content='Are personnel trained and provided with awareness programs at least once a year?'),\n",
       " Document(id='35', metadata={'source': 'Adyen_SQ.xls', 'answer': 'Adyen undertakes specific controls around information security management systems in accordance with PCI DSS requirement 12.10.5.'}, page_content='Do you restrict, log, and monitor access to your information security management systems (e.g., hypervisors, firewalls, vulnerability scanners, network sniffers, APIs, etc.)?'),\n",
       " Document(id='36', metadata={'source': 'Adyen_SQ.xls', 'answer': 'Adyen undertakes specific controls around privileged access in accordance with PCI DSS requirement 10.2.5.'}, page_content='Do you monitor and log privileged access (e.g., administrator level) to information security management systems?'),\n",
       " Document(id='37', metadata={'source': 'Adyen_SQ.xls', 'answer': 'Adyen has controls in place for timely removal of systems access in accordance with PCI DSS requirement 8.1.3, 8.1.4, 12.5.4; ISAE3402 MS.07.'}, page_content='Do you have controls in place ensuring timely removal of systems access that is no longer required for business purposes?'),\n",
       " Document(id='38', metadata={'source': 'Adyen_SQ.xls', 'answer': 'Adyen manages the identity of personnel with access to IT infrastructure in accordance with PCI DSS requirement 7.1.1, 8.1, 8.1.1, 12.5.4.'}, page_content='Do you manage and store the identity of all personnel who have access to the IT infrastructure, including their level of access?'),\n",
       " Document(id='39', metadata={'source': 'Adyen_SQ.xls', 'answer': 'Adyen has controls in place to prevent unauthorized access in accordance with PCI DSS requirement 7.1.1, 8.1, 8.1.1, 12.5.4.'}, page_content='Are controls in place to prevent unauthorized access to your application, program, or object source code, and assure it is restricted to authorized personnel only?'),\n",
       " Document(id='40', metadata={'source': 'Adyen_SQ.xls', 'answer': 'Adyen has controls in place to prevent unauthorized access to customer data in accordance with PCI DSS requirement 7.1.1, 8.1, 8.1.1, 12.5.4.'}, page_content='Are controls in place to prevent unauthorized access to tenant application, program, or object source code, and assure it is restricted to authorized personnel only?'),\n",
       " Document(id='41', metadata={'source': 'Adyen_SQ.xls', 'answer': 'Adyen documents least-privilege access restrictions in accordance with PCI DSS requirement 7.1, 7.1.1, 7.1.2, 7.1.3, 7.1.4, 8.1, 8.1.1, 12.5.4.'}, page_content='Do you document how you grant, approve and enforce access restrictions to tenant/customer credentials following the rules of least privilege?'),\n",
       " Document(id='42', metadata={'source': 'Adyen_SQ.xls', 'answer': 'Adyen manages change to provisioning of user access in accordance with PCI DSS requirement 8.1.3, 8.1.4, 12.5.4; ISAE3402 MS.07.'}, page_content='Is timely deprovisioning, revocation, or modification of user access to the organizations systems, information assets, and data implemented upon any change in status of employees, contractors, customers, business partners, or involved third parties?'),\n",
       " Document(id='43', metadata={'source': 'Adyen_SQ.xls', 'answer': 'Adyen implements intrusion detection in accordance with PCI DSS requirement 10.8.'}, page_content='Are file integrity (host) and network intrusion detection (IDS) tools implemented to help facilitate timely detection, investigation by root cause analysis, and response to incidents?'),\n",
       " Document(id='44', metadata={'source': 'Adyen_SQ.xls', 'answer': 'Adyen restricts physical and logical user access to audit logs in accordance with PCI DSS requirement 10.5, 10.5.1, 10.5.2, 10.5.3, 10.5.4, 10.5.5.'}, page_content='Is physical and logical user access to audit logs restricted to authorized personnel?'),\n",
       " Document(id='45', metadata={'source': 'Adyen_SQ.xls', 'answer': 'Adyen review audit logs in accordance with PCI DSS requirement 10.6, 10.6.1, 10.6.2, 10.6.3, 10.6.4, 10.8.'}, page_content='Are audit logs reviewed on a regular basis for security events (e.g., with automated tools)?'),\n",
       " Document(id='46', metadata={'source': 'Adyen_SQ.xls', 'answer': 'Adyen uses system clock synchronization methods in accordance with PCI DSS requirement 10.4, 10.4.1, 10.4.2, 10.4.3.'}, page_content='Do you use a synchronized time-service protocol (e.g., NTP) to ensure all systems have a common time reference?'),\n",
       " Document(id='47', metadata={'source': 'Adyen_SQ.xls', 'answer': 'Adyen hardens systems in accordance with PCI DSS requirement 1.2.1, 2.1, 2.2, 2.2.2, 2.2.3, 2.2.5.'}, page_content='Are operating systems hardened to provide only the necessary ports, protocols, and services to meet business needs using technical controls (e.g., antivirus, file integrity monitoring, and logging) as part of their baseline build standard or template?'),\n",
       " Document(id='48', metadata={'source': 'Adyen_SQ.xls', 'answer': 'Please note that our production and test environments are multi-tenant.'}, page_content='For your SaaS or PaaS offering, do you provide tenants with separate environments for production and test processes?'),\n",
       " Document(id='49', metadata={'source': 'Adyen_SQ.xls', 'answer': 'Adyen logically and physically segregates production and non-production environments in accordance with PCI DSS requirement 6.4.1, 6.4.2, 6.4.3, 6.4.4.'}, page_content='Do you logically and physically segregate production and non-production environments?'),\n",
       " Document(id='50', metadata={'source': 'Adyen_SQ.xls', 'answer': 'Adyen protects system and network environments in accordance with PCI DSS requirement 1.1, 1.1.1, 1.1.4, 1.2.1, 1.3, 1.3.4, 1.3.5, 11.3.4.'}, page_content='Are system and network environments protected by a firewall or virtual firewall to ensure business and customer security requirements? (IVS-09.1)'),\n",
       " Document(id='51', metadata={'source': 'Adyen_SQ.xls', 'answer': 'Adyen implements controls for management of hypervisors and virtual systems in accordance with PCI DSS requirement 7.1, 8.1, 8.3.'}, page_content='Do you restrict personnel access to all hypervisor management functions or administrative consoles for systems hosting virtualized systems based on the principle of least privilege and supported through technical controls (e.g., two-factor authentication, audit trails, IP address filtering, firewalls and TLS-encapsulated communications to the administrative consoles)?'),\n",
       " Document(id='52', metadata={'source': 'Adyen_SQ.xls', 'answer': 'Adyen protects wireless networks and restricts unauthorized wireless traffic in accordance with PCI DSS requirement 1.1.2, 1.2.3, 9.1.3, 11.1, 11.1.1, 11.1.2.'}, page_content='Are policies and procedures established and mechanisms configured and implemented to protect the wireless network environment perimeter and to restrict unauthorized wireless traffic?'),\n",
       " Document(id='53', metadata={'source': 'Adyen_SQ.xls', 'answer': 'Adyen protects wireless networks with encryption and so on in accordance with PCI DSS requirement 2.1.1, 4.1.1.'}, page_content='Are policies and procedures established and mechanisms implemented to ensure wireless security settings are enabled with strong encryption for authentication and transmission, replacing vendor default settings (e.g., encryption keys, passwords, SNMP community strings)?'),\n",
       " Document(id='54', metadata={'source': 'Adyen_SQ.xls', 'answer': 'Adyen protects wireless networks from rogue devices in accordance with PCI DSS requirement 11.1.1, 11.1.2.'}, page_content='Are policies and procedures established and mechanisms implemented to protect wireless network environments and detect the presence of unauthorized (rogue) network devices for a timely disconnect from the network?'),\n",
       " Document(id='55', metadata={'source': 'Adyen_SQ.xls', 'answer': 'Adyen publishes APIs to our customers, and only provides standard APIs to customers. These APIs are documented in our docs.'}, page_content='Do you publish a list of all APIs available in the service and indicate which are standard and which are customized?'),\n",
       " Document(id='56', metadata={'source': 'Adyen_SQ.xls', 'answer': \"Adyen doesn't permit personal mobile devices to contain customer or internal data.\"}, page_content='Do you have a policy enforcement capability (e.g., XACML) to ensure that only approved applications and those from approved application stores can be loaded onto a mobile device?'),\n",
       " Document(id='57', metadata={'source': 'Adyen_SQ.xls', 'answer': 'Adyen has a documented security incident response plan in accordance with PCI DSS requirement 11.1.2, 12.5.3, 12.8.3, 12.10, 12.10.1.'}, page_content='Do you have a documented security incident response plan?'),\n",
       " Document(id='58', metadata={'source': 'Adyen_SQ.xls', 'answer': 'Adyen tests our security incident response plans in accordance with PCI DSS requirement 12.10.2.'}, page_content='Have you tested your security incident response plans in the last year?'),\n",
       " Document(id='59', metadata={'source': 'Adyen_SQ.xls', 'answer': 'Adyen informs all personnel and external business partners of their responsibilities in accordance with PCI DSS requirement 12.6.2, 12.10.5.'}, page_content='Are workforce personnel and external business relationships adequately informed of their responsibility, and, if required, consent and/or contractually required to report all information security events in a timely manner?'),\n",
       " Document(id='60', metadata={'source': 'Adyen_SQ.xls', 'answer': 'Adyen has predefined communication channels for personnel and business partners to report incidents in accordance with PCI DSS requirement 11.1.2, 12.5.3, 12.8.3, 12.10, 12.10.1.'}, page_content='Do you have predefined communication channels for workforce personnel and external business partners to report incidents in a timely manner adhering to applicable legal, statutory, or regulatory compliance obligations?'),\n",
       " Document(id='61', metadata={'source': 'Adyen_SQ.xls', 'answer': 'Please refer to the Data Processing Agreement for our commitments to merchants.'}, page_content='Do you enforce and attest to tenant data separation when producing data in response to legal subpoenas?'),\n",
       " Document(id='62', metadata={'source': 'Adyen_SQ.xls', 'answer': 'Adyen addresses emerging risks both through direct channels, customer success, account management, and support teams as well as blog posts and other media as required.'}, page_content='Do you make security incident information available to all affected customers and providers periodically through electronic methods (e.g., portals)?'),\n",
       " Document(id='63', metadata={'source': 'Adyen_SQ.xls', 'answer': 'Adyen complies with EBA guidelines on outsourcing arrangements which include provisions for security and data protection, in addition to GDPR requirements for engagement of third parties and security and data protection agreements. Please refer to the Data Processing Agreement for details.'}, page_content='Do third-party agreements include provision for the security and protection of information and assets?'),\n",
       " Document(id='64', metadata={'source': 'Adyen_SQ.xls', 'answer': \"Please note that if the data loss occurs in the customer's own IT environment, this will be done on a best-effort, commercially-reasonable basis.\"}, page_content='Do you have the capability to recover data for a specific customer in the case of a failure or data loss?'),\n",
       " Document(id='65', metadata={'source': 'Adyen_SQ.xls', 'answer': 'The merchant is responsible for measuring service levels for their own use of Adyen, as this can be impacted by their particular upstream ISP and chosen payment channels.'}, page_content='Do you provide tenants with ongoing visibility and reporting of your operational Service Level Agreement (SLA) performance?'),\n",
       " Document(id='66', metadata={'source': 'Adyen_SQ.xls', 'answer': 'Adyen reviews third party arrangements in accordance with EBA guidelines on outsourcing arrangements.'}, page_content='Do you mandate annual information security reviews and audits of your third-party providers to ensure that all agreed-upon security requirements are met?'),\n",
       " Document(id='67', metadata={'source': 'Adyen_SQ.xls', 'answer': 'Adyen uses anti-malware facilities in accordance with PCI DSS requirement 5.1, 5.1.1, 5.1.2, 5.2, 5.3.'}, page_content='Do you have anti-malware programs that support or connect to your cloud service offerings installed on all of your IT infrastructure network and systems components?'),\n",
       " Document(id='68', metadata={'source': 'Adyen_SQ.xls', 'answer': 'Adyen has a vulnerability management program in accordance with PCI DSS requirement 6.1, 6.2.'}, page_content='Do you have a capability to patch vulnerabilities across all of your computing devices, applications, and systems?')]"
      ]
     },
     "execution_count": 12,
     "metadata": {},
     "output_type": "execute_result"
    }
   ],
   "source": [
    "documents"
   ]
  },
  {
   "cell_type": "code",
   "execution_count": 13,
   "metadata": {},
   "outputs": [
    {
     "name": "stdout",
     "output_type": "stream",
     "text": [
      "* Do you have a capability to patch vulnerabilities across all of your computing devices, applications, and systems? [{'answer': 'Adyen has a vulnerability management program in accordance with PCI DSS requirement 6.1, 6.2.', 'source': 'Adyen_SQ.xls'}]\n",
      "* Do you conduct application penetration tests of your cloud infrastructure regularly as prescribed by industry best practices and guidance? [{'answer': 'Adyen conducts application penetration tests in accordance with PCI DSS requirement 11.3.1, 11.3.2.', 'source': 'Adyen_SQ.xls'}]\n"
     ]
    }
   ],
   "source": [
    "results = vector_store.similarity_search(\n",
    "    \"Do you have a capability to patch vulnerabilities across all of your computing devices, applications, and systems?\",\n",
    "    k=2,\n",
    "    filter={\"source\": \"Adyen_SQ.xls\"},\n",
    ")\n",
    "for res in results:\n",
    "    print(f\"* {res.page_content} [{res.metadata}]\")"
   ]
  }
 ],
 "metadata": {
  "kernelspec": {
   "display_name": ".venv",
   "language": "python",
   "name": "python3"
  },
  "language_info": {
   "codemirror_mode": {
    "name": "ipython",
    "version": 3
   },
   "file_extension": ".py",
   "mimetype": "text/x-python",
   "name": "python",
   "nbconvert_exporter": "python",
   "pygments_lexer": "ipython3",
   "version": "3.10.12"
  }
 },
 "nbformat": 4,
 "nbformat_minor": 2
}
