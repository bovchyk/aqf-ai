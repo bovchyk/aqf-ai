{
 "cells": [
  {
   "cell_type": "code",
   "execution_count": 6,
   "metadata": {},
   "outputs": [
    {
     "name": "stdout",
     "output_type": "stream",
     "text": [
      "Note: you may need to restart the kernel to use updated packages.\n"
     ]
    }
   ],
   "source": [
    "%pip install -q pandas xlrd"
   ]
  },
  {
   "cell_type": "code",
   "execution_count": 11,
   "metadata": {},
   "outputs": [],
   "source": [
    "import pandas as pd\n",
    "import spacy"
   ]
  },
  {
   "cell_type": "code",
   "execution_count": 2,
   "metadata": {},
   "outputs": [],
   "source": [
    "file = '../data/raw_filled_security_questionnaire/Adyen_SQ.xls'\n",
    "file_dict = pd.read_excel(file, sheet_name=None)"
   ]
  },
  {
   "cell_type": "code",
   "execution_count": 3,
   "metadata": {},
   "outputs": [],
   "source": [
    "from re import match\n",
    "\n",
    "target_sheet_name = [x for x in list(file_dict.keys()) if match(\"Question*\", x)]"
   ]
  },
  {
   "cell_type": "code",
   "execution_count": 4,
   "metadata": {},
   "outputs": [
    {
     "data": {
      "text/plain": [
       "'Questionnaire'"
      ]
     },
     "execution_count": 4,
     "metadata": {},
     "output_type": "execute_result"
    }
   ],
   "source": [
    "target_sheet_name[0]"
   ]
  },
  {
   "cell_type": "code",
   "execution_count": 5,
   "metadata": {},
   "outputs": [],
   "source": [
    "if not target_sheet_name == None:\n",
    "    # TODO for now, we assume that there is only a one sheet corresponding to the match\n",
    "    df = file_dict[target_sheet_name[0]]"
   ]
  },
  {
   "cell_type": "code",
   "execution_count": 29,
   "metadata": {},
   "outputs": [],
   "source": [
    "df_qa = df.dropna().reset_index(drop=True)\n",
    "df_columns = list(df_qa.columns)"
   ]
  },
  {
   "cell_type": "code",
   "execution_count": 36,
   "metadata": {},
   "outputs": [
    {
     "name": "stdout",
     "output_type": "stream",
     "text": [
      "I like salty fries and hamburgers. <-> Fast food tastes very good.  --  0.691649353055761\n"
     ]
    }
   ],
   "source": [
    "nlp = spacy.load(\"en_core_web_md\")  # make sure to use larger package!\n",
    "doc1 = nlp(\"I like salty fries and hamburgers.\")\n",
    "doc2 = nlp(\"Fast food tastes very good.\")\n",
    "\n",
    "# Similarity of two documents\n",
    "print(doc1, \"<->\", doc2, \" -- \", doc1.similarity(doc2))"
   ]
  },
  {
   "cell_type": "code",
   "execution_count": 30,
   "metadata": {},
   "outputs": [
    {
     "name": "stdout",
     "output_type": "stream",
     "text": [
      "Question <-> Yes/No  --  0.04912184199225643\n",
      "Do you use an automated source code analysis tool to detect security defects in code prior to production? <-> Yes  --  0.08128245306265827\n",
      "(SaaS only) Do you review your applications for security vulnerabilities and address any issues prior to deployment to production? <-> Yes  --  0.05220255584588689\n",
      "Are all identified security, contractual, and regulatory requirements for customer access contractually addressed and remediated prior to granting customers access to data, assets, and information systems? <-> Yes  --  0.03922110768667202\n",
      "Does your data management policies and procedures require audits to verify data input and output integrity routines? <-> Yes  --  0.0718167365614455\n",
      "Do you allow tenants to view your SOC2/ISO 27001 or similar third-party audit or certification reports? <-> Yes  --  0.08109895268497246\n",
      "Do you conduct network penetration tests of your cloud service infrastructure at least annually? <-> Yes  --  0.1162013803116492\n",
      "Do you conduct application penetration tests of your cloud infrastructure regularly as prescribed by industry best practices and guidance? <-> Yes  --  0.05670017824145857\n",
      "Do you have a program in place that includes the ability to monitor changes to the regulatory requirements in relevant jurisdictions, adjust your security program for changes to legal requirements, and ensure compliance with relevant regulatory requirements? <-> Yes  --  0.03746491774116295\n",
      "Are business continuity plans subject to testing at planned intervals or upon significant organizational or environmental changes to ensure continuing effectiveness? <-> Yes  --  0.025134993867508955\n",
      "Are policies and procedures established and made available for all personnel to adequately support services operations' roles? <-> Yes  --  0.026080264524389545\n",
      "Do you have technical capabilities to enforce tenant data retention policies? <-> Yes  --  0.2196463514761274\n",
      "Have you implemented backup or recovery mechanisms to ensure compliance with regulatory, statutory, contractual or business requirements? <-> Yes  --  0.10979921710744042\n",
      "Do you test your backup or redundancy mechanisms at least annually? <-> Yes  --  0.24008129729822264\n",
      "Do you have controls in place to restrict and monitor the installation of unauthorized software onto your systems? <-> Yes  --  0.05343048249059609\n",
      "Do you provide standardized (e.g. ISO/IEC) non-proprietary encryption algorithms (3DES, AES, etc.) to tenants in order for them to protect their data if it is required to move through public networks (e.g., the Internet)? <-> Yes  --  -0.01950194004293013\n",
      "Do you utilize open encryption methodologies any time your infrastructure components need to communicate with each other via public networks (e.g., Internet-based replication of data from one environment to another)? <-> Yes  --  0.002450830454573723\n",
      "Do you have procedures in place to ensure production data shall not be replicated or used in non-production environments? <-> Yes  --  0.08794354944846533\n",
      "Do you support the secure deletion (e.g., degaussing/cryptographic wiping) of archived and backed-up data? <-> Yes  --  -0.09485952782425798\n",
      "Can you provide a published procedure for exiting the service arrangement, including assurance to sanitize all computing resources of tenant data once a customer has exited your environment or has vacated a resource? <-> Yes  --  0.031953962579723244\n",
      "Do you maintain a complete inventory of all of your critical assets located at all sites/ or geographical locations and their assigned ownership? <-> Yes  --  0.014132986191654715\n",
      "Are physical security perimeters (e.g., fences, walls, barriers, guards, gates, electronic surveillance, physical authentication mechanisms, reception desks, and security patrols) implemented for all areas housing sensitive data and information systems? <-> Yes  --  0.03125322095153861\n",
      "Do you restrict physical access to information assets and functions by users and support personnel? <-> Yes  --  0.0461529098780705\n",
      "Do you have a capability to allow creation of unique encryption keys per tenant? <-> Yes  --  0.10078689103403923\n",
      "Do you encrypt tenant data at rest (on disk/storage) within your environment? <-> Yes  --  -0.02479202279284301\n",
      "Do you have documented information security baselines for every component of your infrastructure (e.g., hypervisors, operating systems, routers, DNS servers, etc.)? <-> Yes  --  0.07083480170709686\n",
      "Are your information security policies and procedures made available to all impacted personnel and business partners, authorized by accountable business role/function and supported by the information security management program as per industry best practices (e.g. ISO 27001, SOC 2)? <-> Yes  --  -0.09973441100552957\n",
      "Is a formal disciplinary or sanction policy established for employees who have violated security policies and procedures? <-> Yes  --  0.07266429557389902\n",
      "Do you notify your tenants when you make material changes to your information security and/or privacy policies? <-> Yes  --  0.257157299183438\n",
      "Do you perform, at minimum, annual reviews to your privacy and security policies? <-> Yes  --  0.16516669420988067\n",
      "Upon termination of contract or business relationship, are employees and business partners adequately informed of their obligations for returning organizationally-owned assets? <-> Yes  --  -0.07233973917236325\n",
      "Pursuant to local laws, regulations, ethics, and contractual constraints, are all employment candidates, contractors, and involved third parties subject to background verification? <-> Yes  --  0.0659871419067856\n",
      "Do your employment agreements incorporate provisions and/or terms in adherence to established information governance and security policies? <-> Yes  --  0.024268372817139033\n",
      "Are documented policies, procedures, and guidelines in place to govern change in employment and/or termination? <-> Yes  --  -0.00302876359205743\n",
      "Are personnel trained and provided with awareness programs at least once a year? <-> Yes  --  0.038775989234965925\n",
      "Do you restrict, log, and monitor access to your information security management systems (e.g., hypervisors, firewalls, vulnerability scanners, network sniffers, APIs, etc.)? <-> Yes  --  0.09709560320858944\n",
      "Do you monitor and log privileged access (e.g., administrator level) to information security management systems? <-> Yes  --  0.024644858248537866\n",
      "Do you have controls in place ensuring timely removal of systems access that is no longer required for business purposes? <-> Yes  --  0.16477377964308135\n",
      "Do you manage and store the identity of all personnel who have access to the IT infrastructure, including their level of access? <-> Yes  --  0.03652334638497404\n",
      "Are controls in place to prevent unauthorized access to your application, program, or object source code, and assure it is restricted to authorized personnel only? <-> Yes  --  0.11267201464941407\n",
      "Are controls in place to prevent unauthorized access to tenant application, program, or object source code, and assure it is restricted to authorized personnel only? <-> Yes  --  0.10691163924729619\n",
      "Do you document how you grant, approve and enforce access restrictions to tenant/customer credentials following the rules of least privilege? <-> Yes  --  0.13356882964556682\n",
      "Is timely deprovisioning, revocation, or modification of user access to the organizations systems, information assets, and data implemented upon any change in status of employees, contractors, customers, business partners, or involved third parties? <-> Yes  --  0.013855484362458394\n",
      "Are file integrity (host) and network intrusion detection (IDS) tools implemented to help facilitate timely detection, investigation by root cause analysis, and response to incidents? <-> Yes  --  -0.07669248907672496\n",
      "Is physical and logical user access to audit logs restricted to authorized personnel? <-> Yes  --  0.09730555618430836\n",
      "Are audit logs reviewed on a regular basis for security events (e.g., with automated tools)? <-> Yes  --  -0.07198995706663912\n",
      "Do you use a synchronized time-service protocol (e.g., NTP) to ensure all systems have a common time reference? <-> Yes  --  0.09962266217377426\n",
      "Are operating systems hardened to provide only the necessary ports, protocols, and services to meet business needs using technical controls (e.g., antivirus, file integrity monitoring, and logging) as part of their baseline build standard or template? <-> Yes  --  0.003365615925560547\n",
      "For your SaaS or PaaS offering, do you provide tenants with separate environments for production and test processes? <-> Yes  --  0.1310616835800099\n",
      "Do you logically and physically segregate production and non-production environments? <-> Yes  --  0.038201622616154514\n",
      "Are system and network environments protected by a firewall or virtual firewall to ensure business and customer security requirements? (IVS-09.1) <-> Yes  --  -0.09746829015861899\n",
      "Do you restrict personnel access to all hypervisor management functions or administrative consoles for systems hosting virtualized systems based on the principle of least privilege and supported through technical controls (e.g., two-factor authentication, audit trails, IP address filtering, firewalls and TLS-encapsulated communications to the administrative consoles)? <-> Yes  --  -0.031869856067846404\n",
      "Are policies and procedures established and mechanisms configured and implemented to protect the wireless network environment perimeter and to restrict unauthorized wireless traffic? <-> Yes  --  -0.006779129240328776\n",
      "Are policies and procedures established and mechanisms implemented to ensure wireless security settings are enabled with strong encryption for authentication and transmission, replacing vendor default settings (e.g., encryption keys, passwords, SNMP community strings)? <-> Yes  --  0.003190138534132321\n",
      "Are policies and procedures established and mechanisms implemented to protect wireless network environments and detect the presence of unauthorized (rogue) network devices for a timely disconnect from the network? <-> Yes  --  -0.09345018983005465\n",
      "Do you publish a list of all APIs available in the service and indicate which are standard and which are customized? <-> Yes  --  0.03234264993433237\n",
      "Do you have a policy enforcement capability (e.g., XACML) to ensure that only approved applications and those from approved application stores can be loaded onto a mobile device? <-> Not applicable.  --  0.6074868446675895\n",
      "Do you have a documented security incident response plan? <-> Yes  --  0.30463121996378356\n",
      "Have you tested your security incident response plans in the last year? <-> Yes  --  0.09666204374281617\n",
      "Are workforce personnel and external business relationships adequately informed of their responsibility, and, if required, consent and/or contractually required to report all information security events in a timely manner? <-> Yes  --  0.06930020550481798\n",
      "Do you have predefined communication channels for workforce personnel and external business partners to report incidents in a timely manner adhering to applicable legal, statutory, or regulatory compliance obligations? <-> Yes  --  0.09040685317593647\n",
      "Do you enforce and attest to tenant data separation when producing data in response to legal subpoenas? <-> Yes  --  0.09748229452967212\n",
      "Do you make security incident information available to all affected customers and providers periodically through electronic methods (e.g., portals)? <-> Yes.  --  0.42030117519339044\n",
      "Do third-party agreements include provision for the security and protection of information and assets? <-> Yes.  --  0.3572297789395809\n",
      "Do you have the capability to recover data for a specific customer in the case of a failure or data loss? <-> Yes.  --  0.4106007567060457\n",
      "Do you provide tenants with ongoing visibility and reporting of your operational Service Level Agreement (SLA) performance? <-> No.  --  0.21764782794567306\n",
      "Do you mandate annual information security reviews and audits of your third-party providers to ensure that all agreed-upon security requirements are met? <-> Yes.  --  0.4232183122632648\n",
      "Do you have anti-malware programs that support or connect to your cloud service offerings installed on all of your IT infrastructure network and systems components? <-> Yes.  --  0.4296666593010723\n",
      "Do you have a capability to patch vulnerabilities across all of your computing devices, applications, and systems? <-> Yes.  --  0.49135400249480315\n"
     ]
    }
   ],
   "source": [
    "for ind in range(len(df_qa)):\n",
    "    doc1 = nlp(df_qa[df_columns[0]].iloc[ind])\n",
    "    doc2 = nlp(df_qa[df_columns[1]].iloc[ind])\n",
    "    df_qa.loc[ind, \"0_1\"] = doc1.similarity(doc2)\n",
    "    print(doc1, \"<->\", doc2, \" -- \", doc1.similarity(doc2))\n"
   ]
  },
  {
   "cell_type": "code",
   "execution_count": 31,
   "metadata": {},
   "outputs": [
    {
     "name": "stdout",
     "output_type": "stream",
     "text": [
      "Question <-> Comment  --  0.6719123497819589\n",
      "Do you use an automated source code analysis tool to detect security defects in code prior to production? <-> Adyen automates this in accordance with PCI DSS requirement 6.6.  --  0.662067179472296\n",
      "(SaaS only) Do you review your applications for security vulnerabilities and address any issues prior to deployment to production? <-> Adyen reviews our applications and address issues in accordance with PCI DSS requirement 6.3.2.  --  0.7747609173776299\n",
      "Are all identified security, contractual, and regulatory requirements for customer access contractually addressed and remediated prior to granting customers access to data, assets, and information systems? <-> Adyen addresses and remediates requirements for access accordance with PCI DSS requirement 10.8.1, 11.3, 11.3.3.  --  0.8992109581126052\n",
      "Does your data management policies and procedures require audits to verify data input and output integrity routines? <-> Data quality - including input and output integrity - is in scope of Adyen's multi-year Audit Plan, in accordance with our obligations to the ECB as part of our continuous banking license obligations.  --  0.7577096966192381\n",
      "Do you allow tenants to view your SOC2/ISO 27001 or similar third-party audit or certification reports? <-> Adyen allows our customers to view our ISAE 3402 Type 2 report and PCI DSS Attestation of Compliance (AoC), both of which are external audits/assessments with a focus on data security concerns. Other reports are not available to customers.  --  0.7419393094123147\n",
      "Do you conduct network penetration tests of your cloud service infrastructure at least annually? <-> Adyen conducts network penetration tests in accordance with PCI DSS requirement 11.3.4, 11.3.4.1.  --  0.6911471171306709\n",
      "Do you conduct application penetration tests of your cloud infrastructure regularly as prescribed by industry best practices and guidance? <-> Adyen conducts application penetration tests in accordance with PCI DSS requirement 11.3.1, 11.3.2.  --  0.7592520347976888\n",
      "Do you have a program in place that includes the ability to monitor changes to the regulatory requirements in relevant jurisdictions, adjust your security program for changes to legal requirements, and ensure compliance with relevant regulatory requirements? <-> Adyen maintains an information system regulatory mapping in accordance with our obligations to the ECB as part of our continuous banking license obligations.  --  0.9161137495228531\n",
      "Are business continuity plans subject to testing at planned intervals or upon significant organizational or environmental changes to ensure continuing effectiveness? <-> Adyen tests our business continuity plans in accordance with our obligations to the ECB as part of our continuous banking license obligations.  --  0.8509884142715749\n",
      "Are policies and procedures established and made available for all personnel to adequately support services operations' roles? <-> Adyen has appropriate policies and procedures and makes them available to all personnel in accordance with our obligations to the ECB as part of our continuous banking license obligations.  --  0.9064734740169939\n",
      "Do you have technical capabilities to enforce tenant data retention policies? <-> Please note that since Adyen is a massively-multitenant service provider, options for customization of data retention periods are restricted.  --  0.6800252368392625\n",
      "Have you implemented backup or recovery mechanisms to ensure compliance with regulatory, statutory, contractual or business requirements? <-> Adyen has implemented backup and recovery mechanisms in accordance with our obligations to the ECB as part of our continuous banking license obligations.  --  0.8181287836337378\n",
      "Do you test your backup or redundancy mechanisms at least annually? <-> Adyen tests our backup and redundancy mechanisms at least annually and in accordance with our obligations to the ECB as part of our continuous banking license obligations.  --  0.5725792412393786\n",
      "Do you have controls in place to restrict and monitor the installation of unauthorized software onto your systems? <-> Adyen restricts and monitors the installation of software in accordance with PCI DSS requirement 11.5.  --  0.8092833411022201\n",
      "Do you provide standardized (e.g. ISO/IEC) non-proprietary encryption algorithms (3DES, AES, etc.) to tenants in order for them to protect their data if it is required to move through public networks (e.g., the Internet)? <-> Adyen provides standardized non-proprietary encryption algorithms to merchants for transport of data through public networks in accordance with PCI DSS requirement 4.1.  --  0.8634544633519655\n",
      "Do you utilize open encryption methodologies any time your infrastructure components need to communicate with each other via public networks (e.g., Internet-based replication of data from one environment to another)? <-> Adyen uses open encryption methodologies in accordance with PCI DSS requirement 4.1.  --  0.8079575581408636\n",
      "Do you have procedures in place to ensure production data shall not be replicated or used in non-production environments? <-> Adyen has policies and procedures in place to ensure production data is not available or used in non-production environments in accordance with PCI DSS requirement 6.4, 6.4.3.  --  0.9045708830566839\n",
      "Do you support the secure deletion (e.g., degaussing/cryptographic wiping) of archived and backed-up data? <-> Adyen uses secure deletion and destruction processes in accordance with PCI DSS requirement 9.8, 9.8.1, 9.8.2.  --  0.8097856805307668\n",
      "Can you provide a published procedure for exiting the service arrangement, including assurance to sanitize all computing resources of tenant data once a customer has exited your environment or has vacated a resource? <-> Please consult the Adyen Merchant Agreement for more information about termination of the agreement.  --  0.8668534272346917\n",
      "Do you maintain a complete inventory of all of your critical assets located at all sites/ or geographical locations and their assigned ownership? <-> Adyen maintains a complete inventory of all critical assets in accordance with PCI DSS requirement 2.4, 3.5.1, 9.6.2, 12.3.3, 12.3.4.  --  0.8187580106372055\n",
      "Are physical security perimeters (e.g., fences, walls, barriers, guards, gates, electronic surveillance, physical authentication mechanisms, reception desks, and security patrols) implemented for all areas housing sensitive data and information systems? <-> Adyen implements physical security perimeters in accordance with PCI DSS requirement 9.1, 9.1.1, 9.1.2, 9.1.3. Additional requirements established by PCI PIN Security and PCI P2PE are also implemented.  --  0.8593044875590886\n",
      "Do you restrict physical access to information assets and functions by users and support personnel? <-> In accordance with PCI DSS requirement 9.1, 9.1.1, 9.1.2, 9.1.3, 9.3, 9.4, 9.4.1, 9.4.2, 9.4.3, 9.4.4.  --  0.5422418308452395\n",
      "Do you have a capability to allow creation of unique encryption keys per tenant? <-> Please note that these keys address specific customer integration use-cases which do not include data archival purposes.  --  0.8106966659663432\n",
      "Do you encrypt tenant data at rest (on disk/storage) within your environment? <-> Adyen encrypts customer data at rest in accordance with PCI DSS requirement 3.4.1.  --  0.7082124558604109\n",
      "Do you have documented information security baselines for every component of your infrastructure (e.g., hypervisors, operating systems, routers, DNS servers, etc.)? <-> Adyen maintains system baselines including security in accordance with PCI DSS requirement 12.11.  --  0.8097309548047327\n",
      "Are your information security policies and procedures made available to all impacted personnel and business partners, authorized by accountable business role/function and supported by the information security management program as per industry best practices (e.g. ISO 27001, SOC 2)? <-> Adyen provides access to information security policies and procedures to all relevant personnel in accordance with PCI DSS requirement 12.1, 12.3, 12.4, 12.4.1, 12.5.  --  0.8914002632093807\n",
      "Is a formal disciplinary or sanction policy established for employees who have violated security policies and procedures? <-> Adyen has a formal disciplinary and sanctions policy set in accordance with our obligations to the ECB as part of our continuous banking license obligations.  --  0.8501057428710835\n",
      "Do you notify your tenants when you make material changes to your information security and/or privacy policies? <-> Adyen always informs customers when material changes to our service offering to customers is due to occur.  --  0.8195703517616847\n",
      "Do you perform, at minimum, annual reviews to your privacy and security policies? <-> Adyen reviews security policies in accordance with PCI DSS requirement 12.1.1, and more broadly all appropriate policies in accordance with our obligations to the ECB as part of our continuous banking license obligations.  --  0.7810640008317862\n",
      "Upon termination of contract or business relationship, are employees and business partners adequately informed of their obligations for returning organizationally-owned assets? <-> Adyen informs personnel and business partners of their obligations at time of termination of our relationship in accordance with PCI DSS requirement 9.3.  --  0.9130881849191692\n",
      "Pursuant to local laws, regulations, ethics, and contractual constraints, are all employment candidates, contractors, and involved third parties subject to background verification? <-> Adyen conducts background verification in accordance with PCI DSS requirement 12.7 and in accordance with our obligations to the ECB as part of our continuous banking license obligations and applicable law.  --  0.8796844423416749\n",
      "Do your employment agreements incorporate provisions and/or terms in adherence to established information governance and security policies? <-> Adyen contracts with personnel in accordance with PCI DSS requirement 12.6.2.  --  0.7616232300206881\n",
      "Are documented policies, procedures, and guidelines in place to govern change in employment and/or termination? <-> Adyen implements policies, procedures and guidelines in accordance with ISAE3402 COSO IT General Controls for Joiners/Movers/Leavers.  --  0.7629605984458201\n",
      "Are personnel trained and provided with awareness programs at least once a year? <-> Adyen trains all personnel in appropriate security topics in accordance with PCI DSS requirement 12.6.1.  --  0.7595613813024134\n",
      "Do you restrict, log, and monitor access to your information security management systems (e.g., hypervisors, firewalls, vulnerability scanners, network sniffers, APIs, etc.)? <-> Adyen undertakes specific controls around information security management systems in accordance with PCI DSS requirement 12.10.5.  --  0.8156382548994842\n",
      "Do you monitor and log privileged access (e.g., administrator level) to information security management systems? <-> Adyen undertakes specific controls around privileged access in accordance with PCI DSS requirement 10.2.5.  --  0.7572968772825173\n",
      "Do you have controls in place ensuring timely removal of systems access that is no longer required for business purposes? <-> Adyen has controls in place for timely removal of systems access in accordance with PCI DSS requirement 8.1.3, 8.1.4, 12.5.4; ISAE3402 MS.07.  --  0.8008287422843091\n",
      "Do you manage and store the identity of all personnel who have access to the IT infrastructure, including their level of access? <-> Adyen manages the identity of personnel with access to IT infrastructure in accordance with PCI DSS requirement 7.1.1, 8.1, 8.1.1, 12.5.4.  --  0.881411926470795\n",
      "Are controls in place to prevent unauthorized access to your application, program, or object source code, and assure it is restricted to authorized personnel only? <-> Adyen has controls in place to prevent unauthorized access in accordance with PCI DSS requirement 7.1.1, 8.1, 8.1.1, 12.5.4.  --  0.852392940283455\n",
      "Are controls in place to prevent unauthorized access to tenant application, program, or object source code, and assure it is restricted to authorized personnel only? <-> Adyen has controls in place to prevent unauthorized access to customer data in accordance with PCI DSS requirement 7.1.1, 8.1, 8.1.1, 12.5.4.  --  0.9094644267311555\n",
      "Do you document how you grant, approve and enforce access restrictions to tenant/customer credentials following the rules of least privilege? <-> Adyen documents least-privilege access restrictions in accordance with PCI DSS requirement 7.1, 7.1.1, 7.1.2, 7.1.3, 7.1.4, 8.1, 8.1.1, 12.5.4.  --  0.6972653072693089\n",
      "Is timely deprovisioning, revocation, or modification of user access to the organizations systems, information assets, and data implemented upon any change in status of employees, contractors, customers, business partners, or involved third parties? <-> Adyen manages change to provisioning of user access in accordance with PCI DSS requirement 8.1.3, 8.1.4, 12.5.4; ISAE3402 MS.07.  --  0.9204996812024101\n",
      "Are file integrity (host) and network intrusion detection (IDS) tools implemented to help facilitate timely detection, investigation by root cause analysis, and response to incidents? <-> Adyen implements intrusion detection in accordance with PCI DSS requirement 10.8.  --  0.8006160340179443\n",
      "Is physical and logical user access to audit logs restricted to authorized personnel? <-> Adyen restricts physical and logical user access to audit logs in accordance with PCI DSS requirement 10.5, 10.5.1, 10.5.2, 10.5.3, 10.5.4, 10.5.5.  --  0.7783488256604499\n",
      "Are audit logs reviewed on a regular basis for security events (e.g., with automated tools)? <-> Adyen review audit logs in accordance with PCI DSS requirement 10.6, 10.6.1, 10.6.2, 10.6.3, 10.6.4, 10.8.  --  0.7917288549944965\n",
      "Do you use a synchronized time-service protocol (e.g., NTP) to ensure all systems have a common time reference? <-> Adyen uses system clock synchronization methods in accordance with PCI DSS requirement 10.4, 10.4.1, 10.4.2, 10.4.3.  --  0.7889479671067433\n",
      "Are operating systems hardened to provide only the necessary ports, protocols, and services to meet business needs using technical controls (e.g., antivirus, file integrity monitoring, and logging) as part of their baseline build standard or template? <-> Adyen hardens systems in accordance with PCI DSS requirement 1.2.1, 2.1, 2.2, 2.2.2, 2.2.3, 2.2.5.  --  0.8510050187505523\n",
      "For your SaaS or PaaS offering, do you provide tenants with separate environments for production and test processes? <-> Please note that our production and test environments are multi-tenant.  --  0.8500040908249521\n",
      "Do you logically and physically segregate production and non-production environments? <-> Adyen logically and physically segregates production and non-production environments in accordance with PCI DSS requirement 6.4.1, 6.4.2, 6.4.3, 6.4.4.  --  0.8338153453819308\n",
      "Are system and network environments protected by a firewall or virtual firewall to ensure business and customer security requirements? (IVS-09.1) <-> Adyen protects system and network environments in accordance with PCI DSS requirement 1.1, 1.1.1, 1.1.4, 1.2.1, 1.3, 1.3.4, 1.3.5, 11.3.4.  --  0.7775971146564882\n",
      "Do you restrict personnel access to all hypervisor management functions or administrative consoles for systems hosting virtualized systems based on the principle of least privilege and supported through technical controls (e.g., two-factor authentication, audit trails, IP address filtering, firewalls and TLS-encapsulated communications to the administrative consoles)? <-> Adyen implements controls for management of hypervisors and virtual systems in accordance with PCI DSS requirement 7.1, 8.1, 8.3.  --  0.9029865231261508\n",
      "Are policies and procedures established and mechanisms configured and implemented to protect the wireless network environment perimeter and to restrict unauthorized wireless traffic? <-> Adyen protects wireless networks and restricts unauthorized wireless traffic in accordance with PCI DSS requirement 1.1.2, 1.2.3, 9.1.3, 11.1, 11.1.1, 11.1.2.  --  0.8132408801915262\n",
      "Are policies and procedures established and mechanisms implemented to ensure wireless security settings are enabled with strong encryption for authentication and transmission, replacing vendor default settings (e.g., encryption keys, passwords, SNMP community strings)? <-> Adyen protects wireless networks with encryption and so on in accordance with PCI DSS requirement 2.1.1, 4.1.1.  --  0.8635142975313564\n",
      "Are policies and procedures established and mechanisms implemented to protect wireless network environments and detect the presence of unauthorized (rogue) network devices for a timely disconnect from the network? <-> Adyen protects wireless networks from rogue devices in accordance with PCI DSS requirement 11.1.1, 11.1.2.  --  0.8838252189542429\n",
      "Do you publish a list of all APIs available in the service and indicate which are standard and which are customized? <-> Adyen publishes APIs to our customers, and only provides standard APIs to customers. These APIs are documented in our docs.  --  0.8891632319432885\n",
      "Do you have a policy enforcement capability (e.g., XACML) to ensure that only approved applications and those from approved application stores can be loaded onto a mobile device? <-> Adyen doesn't permit personal mobile devices to contain customer or internal data.  --  0.8846533751798814\n",
      "Do you have a documented security incident response plan? <-> Adyen has a documented security incident response plan in accordance with PCI DSS requirement 11.1.2, 12.5.3, 12.8.3, 12.10, 12.10.1.  --  0.5765291304561896\n",
      "Have you tested your security incident response plans in the last year? <-> Adyen tests our security incident response plans in accordance with PCI DSS requirement 12.10.2.  --  0.8183569681642037\n",
      "Are workforce personnel and external business relationships adequately informed of their responsibility, and, if required, consent and/or contractually required to report all information security events in a timely manner? <-> Adyen informs all personnel and external business partners of their responsibilities in accordance with PCI DSS requirement 12.6.2, 12.10.5.  --  0.9240296076942162\n",
      "Do you have predefined communication channels for workforce personnel and external business partners to report incidents in a timely manner adhering to applicable legal, statutory, or regulatory compliance obligations? <-> Adyen has predefined communication channels for personnel and business partners to report incidents in accordance with PCI DSS requirement 11.1.2, 12.5.3, 12.8.3, 12.10, 12.10.1.  --  0.8938257382544711\n",
      "Do you enforce and attest to tenant data separation when producing data in response to legal subpoenas? <-> Please refer to the Data Processing Agreement for our commitments to merchants.  --  0.8769365336616858\n",
      "Do you make security incident information available to all affected customers and providers periodically through electronic methods (e.g., portals)? <-> Adyen addresses emerging risks both through direct channels, customer success, account management, and support teams as well as blog posts and other media as required.  --  0.7959089689432405\n",
      "Do third-party agreements include provision for the security and protection of information and assets? <-> Adyen complies with EBA guidelines on outsourcing arrangements which include provisions for security and data protection, in addition to GDPR requirements for engagement of third parties and security and data protection agreements. Please refer to the Data Processing Agreement for details.  --  0.9253590131548063\n",
      "Do you have the capability to recover data for a specific customer in the case of a failure or data loss? <-> Please note that if the data loss occurs in the customer's own IT environment, this will be done on a best-effort, commercially-reasonable basis.  --  0.896903642349881\n",
      "Do you provide tenants with ongoing visibility and reporting of your operational Service Level Agreement (SLA) performance? <-> The merchant is responsible for measuring service levels for their own use of Adyen, as this can be impacted by their particular upstream ISP and chosen payment channels.  --  0.7467048108163279\n",
      "Do you mandate annual information security reviews and audits of your third-party providers to ensure that all agreed-upon security requirements are met? <-> Adyen reviews third party arrangements in accordance with EBA guidelines on outsourcing arrangements.  --  0.7803873874632442\n",
      "Do you have anti-malware programs that support or connect to your cloud service offerings installed on all of your IT infrastructure network and systems components? <-> Adyen uses anti-malware facilities in accordance with PCI DSS requirement 5.1, 5.1.1, 5.1.2, 5.2, 5.3.  --  0.6842807271248608\n",
      "Do you have a capability to patch vulnerabilities across all of your computing devices, applications, and systems? <-> Adyen has a vulnerability management program in accordance with PCI DSS requirement 6.1, 6.2.  --  0.7518952847231232\n"
     ]
    }
   ],
   "source": [
    "for ind in range(len(df_qa)):\n",
    "    doc1 = nlp(df_qa[df_columns[0]].iloc[ind])\n",
    "    doc2 = nlp(df_qa[df_columns[2]].iloc[ind])\n",
    "    df_qa.loc[ind, \"0_2\"] = doc1.similarity(doc2)\n",
    "    print(doc1, \"<->\", doc2, \" -- \", doc1.similarity(doc2))"
   ]
  },
  {
   "cell_type": "code",
   "execution_count": 34,
   "metadata": {},
   "outputs": [
    {
     "data": {
      "text/plain": [
       "0      Adyen is transparent about measures to protect...\n",
       "1                                                    NaN\n",
       "2                                               Question\n",
       "3                     Application and Interface Security\n",
       "4                                   Application security\n",
       "                             ...                        \n",
       "136    Do you have anti-malware programs that support...\n",
       "137                       Vulnerability/Patch management\n",
       "138    Do you have a capability to patch vulnerabilit...\n",
       "139                                          Mobile code\n",
       "140    Is mobile code authorized before its installat...\n",
       "Name: Security Questionnaire Example, Length: 141, dtype: object"
      ]
     },
     "execution_count": 34,
     "metadata": {},
     "output_type": "execute_result"
    }
   ],
   "source": [
    "df[df_columns[0]]"
   ]
  },
  {
   "cell_type": "code",
   "execution_count": 37,
   "metadata": {},
   "outputs": [],
   "source": [
    "# а що якщо я не дропатиму нульові значення ?\n",
    "# підсумок: nlp не приймає нульових значень"
   ]
  }
 ],
 "metadata": {
  "kernelspec": {
   "display_name": ".venv",
   "language": "python",
   "name": "python3"
  },
  "language_info": {
   "codemirror_mode": {
    "name": "ipython",
    "version": 3
   },
   "file_extension": ".py",
   "mimetype": "text/x-python",
   "name": "python",
   "nbconvert_exporter": "python",
   "pygments_lexer": "ipython3",
   "version": "3.10.12"
  }
 },
 "nbformat": 4,
 "nbformat_minor": 2
}
